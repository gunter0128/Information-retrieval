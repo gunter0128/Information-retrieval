{
 "cells": [
  {
   "cell_type": "code",
   "execution_count": 13,
   "metadata": {},
   "outputs": [],
   "source": [
    "with open('./1.txt', 'r') as file:\n",
    "    document = file.read()"
   ]
  },
  {
   "cell_type": "code",
   "execution_count": 8,
   "metadata": {},
   "outputs": [
    {
     "name": "stdout",
     "output_type": "stream",
     "text": [
      "儲存成功\n"
     ]
    }
   ],
   "source": [
    "# 補上標點符號判斷\n",
    "punctuations = '.,!?;:\\'\"'\n",
    "\n",
    "# 手動移除標點符號\n",
    "document_no_punct = ''.join([char for char in document if char not in punctuations])\n",
    "\n",
    "# Tokenization（將句子分割為詞語）\n",
    "tokens = document_no_punct.split()\n",
    "\n",
    "# 轉換為小寫字母\n",
    "tokens = [token.lower() for token in tokens]\n",
    "\n",
    "# 簡易stopword清單\n",
    "stopwords = {'the', 'is', 'in', 'on', 'a', \n",
    "             'to', 'and', 'of', 'for', 'it', \n",
    "             'this', 'that', 'but',\n",
    "             'with', 'will', 'were', 'are', 'be' \n",
    "             ',', '.', '?', '!','\\''} #本來要在這裡分辨stopwords 但後來發現應該在split前判斷 否則標點符號會被和單字視為一體\n",
    "\n",
    "# 去除停用詞\n",
    "filtered_tokens = [word for word in tokens if word not in stopwords]\n",
    "\n"
   ]
  },
  {
   "cell_type": "code",
   "execution_count": 9,
   "metadata": {},
   "outputs": [],
   "source": [
    "# stemming實作\n",
    "def simple_stemmer(word):\n",
    "    if word.endswith('ing'):\n",
    "        return word[:-3]\n",
    "    elif word.endswith('ied'):\n",
    "        return word[:-3]+'y' # 這個判斷式要放在下一個前方\n",
    "    elif word.endswith('ed'):\n",
    "        return word[:-1]\n",
    "    elif word.endswith('ies'):\n",
    "        return word[:-3]+'y'\n",
    "    elif word.endswith('s') and len(word) > 1:\n",
    "        return word[:-1]\n",
    "    elif word.endswith('ly'):\n",
    "        return word[:-2]\n",
    "    elif word.endswith('er'):\n",
    "        return word[:-2]\n",
    "    elif word.endswith('ness'):\n",
    "        return word[:-4]\n",
    "    return word"
   ]
  },
  {
   "cell_type": "code",
   "execution_count": 10,
   "metadata": {},
   "outputs": [],
   "source": [
    "# 使用集合來保證唯一性 (符合term的定義)\n",
    "stemmed_tokens = {simple_stemmer(token) for token in filtered_tokens}  \n",
    "\n",
    "# 將詞語按照字母順序排序\n",
    "sorted_terms = sorted(stemmed_tokens)\n",
    "\n",
    "# 按照首字母進行分組\n",
    "grouped_terms = {}\n",
    "for term in sorted_terms:\n",
    "    first_letter = term[0]  # 取得首字母\n",
    "    if first_letter not in grouped_terms:\n",
    "        grouped_terms[first_letter] = []\n",
    "    grouped_terms[first_letter].append(term)"
   ]
  },
  {
   "cell_type": "code",
   "execution_count": 11,
   "metadata": {},
   "outputs": [
    {
     "name": "stdout",
     "output_type": "stream",
     "text": [
      "儲存成功\n"
     ]
    }
   ],
   "source": [
    "# 輸出結果到 txt 檔案\n",
    "with open('result.txt', 'w') as result_file:\n",
    "    for letter in sorted(grouped_terms):  # 按照字母順序輸出\n",
    "        terms = ', '.join(grouped_terms[letter])\n",
    "        result_file.write(f\"{letter}: {terms}\\n\")\n",
    "\n",
    "print(\"儲存成功\")"
   ]
  }
 ],
 "metadata": {
  "kernelspec": {
   "display_name": "Python 3",
   "language": "python",
   "name": "python3"
  },
  "language_info": {
   "codemirror_mode": {
    "name": "ipython",
    "version": 3
   },
   "file_extension": ".py",
   "mimetype": "text/x-python",
   "name": "python",
   "nbconvert_exporter": "python",
   "pygments_lexer": "ipython3",
   "version": "3.12.4"
  }
 },
 "nbformat": 4,
 "nbformat_minor": 2
}
